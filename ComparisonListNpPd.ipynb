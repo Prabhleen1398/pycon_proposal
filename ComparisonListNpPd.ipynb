{
 "cells": [
  {
   "cell_type": "code",
   "execution_count": 1,
   "metadata": {},
   "outputs": [],
   "source": [
    "import pandas as pd\n",
    "import numpy as np\n",
    "import random\n",
    "import datetime\n",
    "from sys import getsizeof"
   ]
  },
  {
   "cell_type": "code",
   "execution_count": 2,
   "metadata": {},
   "outputs": [],
   "source": [
    "list1 = [21,31,42,32,43,45]\n",
    "list2 = [21,433,54,31,76,44]"
   ]
  },
  {
   "cell_type": "markdown",
   "metadata": {},
   "source": [
    "# Operations On Lists"
   ]
  },
  {
   "cell_type": "code",
   "execution_count": 3,
   "metadata": {},
   "outputs": [
    {
     "data": {
      "text/plain": [
       "[21, 31, 42, 32, 43, 45, 21, 433, 54, 31, 76, 44]"
      ]
     },
     "execution_count": 3,
     "metadata": {},
     "output_type": "execute_result"
    }
   ],
   "source": [
    "list1+list2"
   ]
  },
  {
   "cell_type": "code",
   "execution_count": 4,
   "metadata": {},
   "outputs": [
    {
     "name": "stdout",
     "output_type": "stream",
     "text": [
      "[42, 464, 96, 63, 119, 89]\n"
     ]
    }
   ],
   "source": [
    "sum = []\n",
    "for i in range(0, len(list1)):\n",
    "    sum.append(list1[i]+list2[i])\n",
    "print(sum)"
   ]
  },
  {
   "cell_type": "code",
   "execution_count": 5,
   "metadata": {},
   "outputs": [],
   "source": [
    "arr1 = np.array(list1)\n",
    "arr2 = np.array(list2)"
   ]
  },
  {
   "cell_type": "code",
   "execution_count": 6,
   "metadata": {},
   "outputs": [
    {
     "data": {
      "text/plain": [
       "array([ 42, 464,  96,  63, 119,  89])"
      ]
     },
     "execution_count": 6,
     "metadata": {},
     "output_type": "execute_result"
    }
   ],
   "source": [
    "arr1+arr2"
   ]
  },
  {
   "cell_type": "markdown",
   "metadata": {},
   "source": [
    "## Complexity of Addition Operation reduces using numpy"
   ]
  },
  {
   "cell_type": "code",
   "execution_count": 7,
   "metadata": {},
   "outputs": [
    {
     "data": {
      "text/plain": [
       "array([ 21,  31,  42,  32,  43,  45,  21, 433,  54,  31,  76,  44])"
      ]
     },
     "execution_count": 7,
     "metadata": {},
     "output_type": "execute_result"
    }
   ],
   "source": [
    "np.append(arr1, arr2)"
   ]
  },
  {
   "cell_type": "markdown",
   "metadata": {},
   "source": [
    "### Now, comparing time required for completion of Division for a large values"
   ]
  },
  {
   "cell_type": "code",
   "execution_count": 19,
   "metadata": {},
   "outputs": [
    {
     "name": "stdout",
     "output_type": "stream",
     "text": [
      "0:00:06.830558\n"
     ]
    }
   ],
   "source": [
    "#Generating a random list of 1000 entries\n",
    "list3 = []\n",
    "list4 = []\n",
    "for i in range(0, 10000000):\n",
    "    list3.append(random.randint(10000, 20000))\n",
    "    list4.append(random.randint(10000,20000))\n",
    "start = datetime.datetime.now()\n",
    "ans = []\n",
    "for x in range(0, len(list3)):\n",
    "    ans.append(list3[1]/list4[i])\n",
    "end = datetime.datetime.now()\n",
    "print(end - start)"
   ]
  },
  {
   "cell_type": "code",
   "execution_count": 20,
   "metadata": {},
   "outputs": [
    {
     "name": "stdout",
     "output_type": "stream",
     "text": [
      "0:00:00.294197\n"
     ]
    }
   ],
   "source": [
    "#Calculating quotient for numpy\n",
    "arr1 = np.array(list3)\n",
    "arr2 = np.array(list4)\n",
    "start = datetime.datetime.now()\n",
    "res = np.array(arr1/arr2)\n",
    "end = datetime.datetime.now()\n",
    "print(end - start)"
   ]
  },
  {
   "cell_type": "markdown",
   "metadata": {},
   "source": [
    "### Comparing memory size for list and numpy array"
   ]
  },
  {
   "cell_type": "code",
   "execution_count": 22,
   "metadata": {},
   "outputs": [
    {
     "name": "stdout",
     "output_type": "stream",
     "text": [
      "81528056\n",
      "80000096\n"
     ]
    }
   ],
   "source": [
    "print(getsizeof(ans))\n",
    "print(getsizeof(res))"
   ]
  },
  {
   "cell_type": "markdown",
   "metadata": {},
   "source": [
    "#### We can thus see that numpy uses less memory thereby optimizing memory utilisation"
   ]
  },
  {
   "cell_type": "code",
   "execution_count": 23,
   "metadata": {},
   "outputs": [
    {
     "name": "stdout",
     "output_type": "stream",
     "text": [
      "[[ 21  31  42  32  43]\n",
      " [ 21 433  54  31  76]]\n",
      "   head.size  brain.weight gender age.group\n",
      "0       4512          1530   male     20-46\n",
      "1       3738          1297   male     20-46\n",
      "2       4261          1335   male     20-46\n",
      "3       3777          1282   male     20-46\n",
      "4       4177          1590   male     20-46\n"
     ]
    }
   ],
   "source": [
    "np_2d = np.array([list1, list2])\n",
    "print(np_2d[0:5, 0:5])\n",
    "df = pd.read_csv('headbrain.csv')\n",
    "print(df.head(5))"
   ]
  },
  {
   "cell_type": "markdown",
   "metadata": {},
   "source": [
    "#### Lets create numpy array of heterogeneous data types"
   ]
  },
  {
   "cell_type": "code",
   "execution_count": 24,
   "metadata": {},
   "outputs": [
    {
     "data": {
      "text/plain": [
       "array([list([12, 43, 56, 74, 53, 28]),\n",
       "       list(['hello', 'there', 'this', 'is', 'a', 'numpy', '2D', 'array'])],\n",
       "      dtype=object)"
      ]
     },
     "execution_count": 24,
     "metadata": {},
     "output_type": "execute_result"
    }
   ],
   "source": [
    "np_array = np.array([[12,43,56,74,53,28], ['hello', 'there', 'this', 'is', 'a', 'numpy', '2D', 'array']])\n",
    "np_array"
   ]
  },
  {
   "cell_type": "code",
   "execution_count": 25,
   "metadata": {},
   "outputs": [
    {
     "name": "stdout",
     "output_type": "stream",
     "text": [
      "head.size        int64\n",
      "brain.weight     int64\n",
      "gender          object\n",
      "age.group       object\n",
      "dtype: object\n"
     ]
    }
   ],
   "source": [
    "print(df.dtypes)"
   ]
  },
  {
   "cell_type": "markdown",
   "metadata": {},
   "source": [
    "## numpy converts all elements into homogeneous data type implicitly while pandas does not"
   ]
  },
  {
   "cell_type": "code",
   "execution_count": null,
   "metadata": {},
   "outputs": [],
   "source": []
  }
 ],
 "metadata": {
  "kernelspec": {
   "display_name": "Python 3",
   "language": "python",
   "name": "python3"
  },
  "language_info": {
   "codemirror_mode": {
    "name": "ipython",
    "version": 3
   },
   "file_extension": ".py",
   "mimetype": "text/x-python",
   "name": "python",
   "nbconvert_exporter": "python",
   "pygments_lexer": "ipython3",
   "version": "3.6.5"
  }
 },
 "nbformat": 4,
 "nbformat_minor": 2
}
